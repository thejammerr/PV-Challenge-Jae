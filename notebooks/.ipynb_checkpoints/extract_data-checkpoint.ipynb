{
 "cells": [
  {
   "cell_type": "code",
   "execution_count": 5,
   "metadata": {},
   "outputs": [],
   "source": [
    "import pandas as pd \n",
    "import numpy as np\n",
    "import xarray as xr\n",
    "import matplotlib.pyplot as plt\n",
    "import torch\n",
    "import math\n",
    "\n",
    "import torch.nn.functional as F\n"
   ]
  },
  {
   "cell_type": "code",
   "execution_count": 15,
   "metadata": {},
   "outputs": [
    {
     "data": {
      "text/html": [
       "<div>\n",
       "<style scoped>\n",
       "    .dataframe tbody tr th:only-of-type {\n",
       "        vertical-align: middle;\n",
       "    }\n",
       "\n",
       "    .dataframe tbody tr th {\n",
       "        vertical-align: top;\n",
       "    }\n",
       "\n",
       "    .dataframe thead th {\n",
       "        text-align: right;\n",
       "    }\n",
       "</style>\n",
       "<table border=\"1\" class=\"dataframe\">\n",
       "  <thead>\n",
       "    <tr style=\"text-align: right;\">\n",
       "      <th></th>\n",
       "      <th>ss_id</th>\n",
       "      <th>latitude_rounded</th>\n",
       "      <th>longitude_rounded</th>\n",
       "      <th>llsoacd</th>\n",
       "      <th>orientation</th>\n",
       "      <th>tilt</th>\n",
       "      <th>kwp</th>\n",
       "      <th>operational_at</th>\n",
       "    </tr>\n",
       "  </thead>\n",
       "  <tbody>\n",
       "    <tr>\n",
       "      <th>24657</th>\n",
       "      <td>27063</td>\n",
       "      <td>51.41</td>\n",
       "      <td>-2.49</td>\n",
       "      <td>E01014398</td>\n",
       "      <td>185.0</td>\n",
       "      <td>35.0</td>\n",
       "      <td>4.0</td>\n",
       "      <td>2018-04-18</td>\n",
       "    </tr>\n",
       "    <tr>\n",
       "      <th>24658</th>\n",
       "      <td>27064</td>\n",
       "      <td>51.47</td>\n",
       "      <td>-0.59</td>\n",
       "      <td>E01016588</td>\n",
       "      <td>180.0</td>\n",
       "      <td>45.0</td>\n",
       "      <td>2.0</td>\n",
       "      <td>2018-04-18</td>\n",
       "    </tr>\n",
       "    <tr>\n",
       "      <th>24659</th>\n",
       "      <td>27065</td>\n",
       "      <td>51.36</td>\n",
       "      <td>-2.93</td>\n",
       "      <td>E01014817</td>\n",
       "      <td>125.0</td>\n",
       "      <td>37.0</td>\n",
       "      <td>4.0</td>\n",
       "      <td>2018-04-18</td>\n",
       "    </tr>\n",
       "    <tr>\n",
       "      <th>24660</th>\n",
       "      <td>27066</td>\n",
       "      <td>51.44</td>\n",
       "      <td>-2.85</td>\n",
       "      <td>E01014759</td>\n",
       "      <td>165.0</td>\n",
       "      <td>35.0</td>\n",
       "      <td>4.0</td>\n",
       "      <td>2018-04-18</td>\n",
       "    </tr>\n",
       "    <tr>\n",
       "      <th>24661</th>\n",
       "      <td>27067</td>\n",
       "      <td>53.52</td>\n",
       "      <td>-2.48</td>\n",
       "      <td>E01006291</td>\n",
       "      <td>117.0</td>\n",
       "      <td>33.0</td>\n",
       "      <td>2.0</td>\n",
       "      <td>2018-04-18</td>\n",
       "    </tr>\n",
       "  </tbody>\n",
       "</table>\n",
       "</div>"
      ],
      "text/plain": [
       "       ss_id  latitude_rounded  longitude_rounded    llsoacd  orientation  \\\n",
       "24657  27063             51.41              -2.49  E01014398        185.0   \n",
       "24658  27064             51.47              -0.59  E01016588        180.0   \n",
       "24659  27065             51.36              -2.93  E01014817        125.0   \n",
       "24660  27066             51.44              -2.85  E01014759        165.0   \n",
       "24661  27067             53.52              -2.48  E01006291        117.0   \n",
       "\n",
       "       tilt  kwp operational_at  \n",
       "24657  35.0  4.0     2018-04-18  \n",
       "24658  45.0  2.0     2018-04-18  \n",
       "24659  37.0  4.0     2018-04-18  \n",
       "24660  35.0  4.0     2018-04-18  \n",
       "24661  33.0  2.0     2018-04-18  "
      ]
     },
     "execution_count": 15,
     "metadata": {},
     "output_type": "execute_result"
    }
   ],
   "source": [
    "'''\n",
    "    Relevant data for our model:\n",
    "    \n",
    "    ss_id : id number of the PV system. these are the keys in the netcdf file\n",
    "    latitude_rounded : latitude of the PV system (I think degrees)\n",
    "    longitude_rounded : longitude of the PV system (I think degrees)\n",
    "    orientation : cardinal orientation of PV panels ? TODO: confirm\n",
    "    tilt : tilt angle of the PV panels\n",
    "'''\n",
    "pv_metadata = pd.read_csv(\"../data/metadata.csv\")\n",
    "pv_metadata.head()     # Prints first 5 rows of metadata\n"
   ]
  },
  {
   "cell_type": "code",
   "execution_count": 13,
   "metadata": {},
   "outputs": [],
   "source": [
    "fn = '../data/pv.netcdf'\n",
    "#ncf = nc.Dataset(fn)   # Using xarray to open files instead of netcdf for pipeline simplicity\n",
    "ncf = xr.open_dataset(fn, engine=\"h5netcdf\")"
   ]
  },
  {
   "cell_type": "code",
   "execution_count": 16,
   "metadata": {},
   "outputs": [
    {
     "name": "stdout",
     "output_type": "stream",
     "text": [
      "KeysView(<xarray.Dataset>\n",
      "Dimensions:   (datetime: 387254)\n",
      "Coordinates:\n",
      "  * datetime  (datetime) datetime64[ns] 2018-01-01T06:05:00 ... 2021-10-27T23...\n",
      "Data variables: (12/1311)\n",
      "    10003     (datetime) float32 ...\n",
      "    10004     (datetime) float32 ...\n",
      "    10005     (datetime) float32 ...\n",
      "    10048     (datetime) float32 ...\n",
      "    10049     (datetime) float32 ...\n",
      "    10063     (datetime) float32 ...\n",
      "    ...        ...\n",
      "    9870      (datetime) float32 ...\n",
      "    9871      (datetime) float32 ...\n",
      "    9902      (datetime) float32 ...\n",
      "    9903      (datetime) float32 ...\n",
      "    9960      (datetime) float32 ...\n",
      "    9989      (datetime) float32 ...)\n"
     ]
    }
   ],
   "source": [
    "print(ncf.keys())"
   ]
  },
  {
   "cell_type": "code",
   "execution_count": null,
   "metadata": {},
   "outputs": [],
   "source": [
    "'''\n",
    "\n",
    "model input: \n",
    "- date + time from which to forecast next 24h\n",
    "- latitutde/longitude\n",
    "- orientation/tilt\n",
    "- kwp\n",
    "\n",
    "model output:\n",
    "- 24 hour generation forecast in increments of 15 min (CAN BE CHANGED)\n",
    "\n",
    "Current TODO:\n",
    "\n",
    "- run lat/lon/date through a trigonometric transformation to reduce endpoint singularities (https://arxiv.org/pdf/2011.06125.pdf)\n",
    "- load in satellite image data, run it through normalization\n",
    "\n",
    "'''"
   ]
  }
 ],
 "metadata": {
  "kernelspec": {
   "display_name": "Python 3 (ipykernel)",
   "language": "python",
   "name": "python3"
  },
  "language_info": {
   "codemirror_mode": {
    "name": "ipython",
    "version": 3
   },
   "file_extension": ".py",
   "mimetype": "text/x-python",
   "name": "python",
   "nbconvert_exporter": "python",
   "pygments_lexer": "ipython3",
   "version": "3.9.5"
  }
 },
 "nbformat": 4,
 "nbformat_minor": 2
}
