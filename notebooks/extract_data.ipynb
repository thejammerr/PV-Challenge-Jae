{
 "cells": [
  {
   "cell_type": "code",
   "execution_count": 2,
   "metadata": {},
   "outputs": [],
   "source": [
    "import pandas as pd \n",
    "import numpy as np\n",
    "import xarray as xr\n",
    "import matplotlib.pyplot as plt\n",
    "import matplotlib.dates as mdates\n",
    "import datetime as dt\n",
    "import torch\n",
    "import math\n",
    "import itertools\n",
    "\n",
    "import torch.nn.functional as F\n"
   ]
  },
  {
   "cell_type": "code",
   "execution_count": 3,
   "metadata": {},
   "outputs": [
    {
     "data": {
      "text/html": [
       "<div>\n",
       "<style scoped>\n",
       "    .dataframe tbody tr th:only-of-type {\n",
       "        vertical-align: middle;\n",
       "    }\n",
       "\n",
       "    .dataframe tbody tr th {\n",
       "        vertical-align: top;\n",
       "    }\n",
       "\n",
       "    .dataframe thead th {\n",
       "        text-align: right;\n",
       "    }\n",
       "</style>\n",
       "<table border=\"1\" class=\"dataframe\">\n",
       "  <thead>\n",
       "    <tr style=\"text-align: right;\">\n",
       "      <th></th>\n",
       "      <th>ss_id</th>\n",
       "      <th>latitude_rounded</th>\n",
       "      <th>longitude_rounded</th>\n",
       "      <th>llsoacd</th>\n",
       "      <th>orientation</th>\n",
       "      <th>tilt</th>\n",
       "      <th>kwp</th>\n",
       "      <th>operational_at</th>\n",
       "    </tr>\n",
       "  </thead>\n",
       "  <tbody>\n",
       "    <tr>\n",
       "      <th>0</th>\n",
       "      <td>2405</td>\n",
       "      <td>53.53</td>\n",
       "      <td>-1.63</td>\n",
       "      <td>E01007430</td>\n",
       "      <td>180.0</td>\n",
       "      <td>35.0</td>\n",
       "      <td>3.36</td>\n",
       "      <td>2010-11-18</td>\n",
       "    </tr>\n",
       "    <tr>\n",
       "      <th>1</th>\n",
       "      <td>2406</td>\n",
       "      <td>54.88</td>\n",
       "      <td>-1.38</td>\n",
       "      <td>E01008780</td>\n",
       "      <td>315.0</td>\n",
       "      <td>30.0</td>\n",
       "      <td>1.89</td>\n",
       "      <td>2010-12-03</td>\n",
       "    </tr>\n",
       "    <tr>\n",
       "      <th>2</th>\n",
       "      <td>2407</td>\n",
       "      <td>54.88</td>\n",
       "      <td>-1.38</td>\n",
       "      <td>E01008780</td>\n",
       "      <td>225.0</td>\n",
       "      <td>30.0</td>\n",
       "      <td>1.89</td>\n",
       "      <td>2010-12-03</td>\n",
       "    </tr>\n",
       "    <tr>\n",
       "      <th>3</th>\n",
       "      <td>2408</td>\n",
       "      <td>54.88</td>\n",
       "      <td>-1.38</td>\n",
       "      <td>E01008780</td>\n",
       "      <td>225.0</td>\n",
       "      <td>30.0</td>\n",
       "      <td>1.89</td>\n",
       "      <td>2010-12-03</td>\n",
       "    </tr>\n",
       "    <tr>\n",
       "      <th>4</th>\n",
       "      <td>2409</td>\n",
       "      <td>54.88</td>\n",
       "      <td>-1.38</td>\n",
       "      <td>E01008780</td>\n",
       "      <td>225.0</td>\n",
       "      <td>30.0</td>\n",
       "      <td>1.89</td>\n",
       "      <td>2010-12-03</td>\n",
       "    </tr>\n",
       "  </tbody>\n",
       "</table>\n",
       "</div>"
      ],
      "text/plain": [
       "   ss_id  latitude_rounded  longitude_rounded    llsoacd  orientation  tilt  \\\n",
       "0   2405             53.53              -1.63  E01007430        180.0  35.0   \n",
       "1   2406             54.88              -1.38  E01008780        315.0  30.0   \n",
       "2   2407             54.88              -1.38  E01008780        225.0  30.0   \n",
       "3   2408             54.88              -1.38  E01008780        225.0  30.0   \n",
       "4   2409             54.88              -1.38  E01008780        225.0  30.0   \n",
       "\n",
       "    kwp operational_at  \n",
       "0  3.36     2010-11-18  \n",
       "1  1.89     2010-12-03  \n",
       "2  1.89     2010-12-03  \n",
       "3  1.89     2010-12-03  \n",
       "4  1.89     2010-12-03  "
      ]
     },
     "execution_count": 3,
     "metadata": {},
     "output_type": "execute_result"
    }
   ],
   "source": [
    "'''\n",
    "    Relevant data for our model:\n",
    "    \n",
    "    ss_id : id number of the PV system. these are the keys in the netcdf file\n",
    "    latitude_rounded : latitude of the PV system (I think degrees)\n",
    "    longitude_rounded : longitude of the PV system (I think degrees)\n",
    "    orientation : cardinal orientation of PV panels ? TODO: confirm\n",
    "    tilt : tilt angle of the PV panels\n",
    "'''\n",
    "pv_metadata = pd.read_csv(\"../data/metadata.csv\")\n",
    "pv_metadata.head()     # Prints first 5 rows of metadata\n"
   ]
  },
  {
   "cell_type": "code",
   "execution_count": 4,
   "metadata": {},
   "outputs": [],
   "source": [
    "fn = '../data/pv.netcdf'\n",
    "#ncf = nc.Dataset(fn)   # Using xarray to open files instead of netcdf for pipeline simplicity\n",
    "ncf = xr.open_dataset(fn, engine=\"h5netcdf\")"
   ]
  },
  {
   "cell_type": "code",
   "execution_count": 5,
   "metadata": {},
   "outputs": [
    {
     "name": "stdout",
     "output_type": "stream",
     "text": [
      "KeysView(<xarray.Dataset>\n",
      "Dimensions:   (datetime: 387254)\n",
      "Coordinates:\n",
      "  * datetime  (datetime) datetime64[ns] 2018-01-01T06:05:00 ... 2021-10-27T23...\n",
      "Data variables: (12/1311)\n",
      "    10003     (datetime) float32 ...\n",
      "    10004     (datetime) float32 ...\n",
      "    10005     (datetime) float32 ...\n",
      "    10048     (datetime) float32 ...\n",
      "    10049     (datetime) float32 ...\n",
      "    10063     (datetime) float32 ...\n",
      "    ...        ...\n",
      "    9870      (datetime) float32 ...\n",
      "    9871      (datetime) float32 ...\n",
      "    9902      (datetime) float32 ...\n",
      "    9903      (datetime) float32 ...\n",
      "    9960      (datetime) float32 ...\n",
      "    9989      (datetime) float32 ...)\n"
     ]
    }
   ],
   "source": [
    "print(ncf.keys())"
   ]
  },
  {
   "cell_type": "code",
   "execution_count": 6,
   "metadata": {},
   "outputs": [
    {
     "name": "stdout",
     "output_type": "stream",
     "text": [
      "['10003', '10004', '10005', '10048', '10049', '10063', '10064', '10082', '10086', '10131', '10149', '10150', '10167', '10168', '10169', '10190', '10205', '10206', '10207', '10222', '10254', '10278', '10280', '10361', '10366', '10367', '10425', '10426', '10437', '10438', '10440', '10466', '10497', '10509', '10511', '10512', '10513', '10523', '10528', '10531', '10532', '10533', '10547', '10548', '10585', '10586', '10589', '10595', '10619', '10620', '10630', '10631', '10639', '10640', '10648', '10649', '10650', '10685', '10686', '10689', '10692', '10693', '10702', '10704', '10791', '10792', '10793', '10794', '10835', '10837', '10838', '10840', '10841', '10842', '10843', '10844', '10890', '10929', '10973', '10974', '10975', '10976', '11040', '11042', '11151', '11153', '11166', '11174', '11175', '11176', '11287', '11401', '11438', '11441', '11465', '11466', '11494', '11522', '11558', '11573', '11590', '11591', '11628', '11630', '11655', '11656', '11657', '11685', '11687', '11688', '11712', '11724', '11752', '11769', '11811', '11827', '11828', '11865', '11895', '11896', '11962', '11983', '11987', '12013', '12029', '12035', '12091', '12092', '12314', '12368', '12371', '12398', '12451', '12487', '12495', '12642', '12644', '12645', '12646', '12647', '12648', '12761', '12764', '12766', '12772', '12826', '12846', '12847', '12860', '12886', '12887', '12917', '12918', '12919', '12920', '13012', '13052', '13057', '13308', '13309', '13310', '13311', '13387', '13388', '13389', '13390', '13415', '13485', '13498', '13499', '13500', '13570', '13607', '13641', '13670', '13767', '13768', '13769', '13770', '13773', '13811', '13817', '13840', '14308', '14316', '14394', '14452', '14453', '14455', '14467', '14531', '14577', '14649', '14650', '14657', '14666', '14672', '14673', '14674', '14757', '14786', '14859', '14861', '14923', '14924', '15051', '15091', '15225', '15359', '15603', '15721', '15765', '15830', '15846', '15850', '15851', '15852', '15949', '15967', '16214', '16215', '16216', '16267', '16298', '16364', '16474', '16477', '16480', '16483', '16570', '16597', '16715', '16717', '16718', '16769', '16770', '16920', '16921', '17034', '17035', '17062', '17073', '17166', '17333', '17465', '17693', '17878', '18019', '18128', '18161', '18249', '18873', '18989', '18990', '20857', '22335', '23083', '2603', '2607', '2625', '2626', '2628', '2631', '2638', '2657', '2660', '2661', '26771', '26772', '26773', '26774', '26775', '26776', '26777', '26778', '26780', '26781', '26782', '26783', '26784', '26785', '26786', '26787', '26788', '26789', '26790', '26791', '26792', '26793', '26794', '26795', '26796', '26797', '26798', '26799', '26800', '26801', '26802', '26803', '26804', '26805', '26806', '26807', '26808', '26809', '26810', '26811', '26812', '26813', '26815', '26816', '26817', '26818', '26819', '26822', '26823', '26824', '26825', '26826', '26827', '26828', '26829', '26830', '26831', '26832', '26833', '26834', '26835', '26836', '26837', '26838', '26839', '26840', '26841', '26842', '26843', '26844', '26845', '26846', '26848', '26849', '26850', '26851', '26852', '26853', '26854', '26855', '26856', '26858', '26859', '26860', '26861', '26862', '26863', '26864', '26865', '26866', '26867', '26868', '26869', '26870', '26871', '26872', '26873', '26874', '26875', '26876', '26877', '26878', '26879', '26880', '26881', '26882', '26883', '26884', '26885', '26886', '26887', '26889', '26890', '26891', '26892', '26893', '26894', '26895', '26896', '26897', '26898', '26899', '26900', '26901', '26902', '26903', '26904', '26905', '26906', '26907', '26908', '26909', '26910', '26911', '26912', '26913', '26914', '26915', '26916', '26917', '26918', '26919', '26920', '26921', '26922', '26923', '26924', '26925', '26926', '26927', '26928', '26929', '26930', '26931', '26932', '26933', '26934', '26935', '26936', '26937', '26938', '26939', '26940', '26941', '26942', '26943', '26944', '26945', '26947', '26948', '26949', '26951', '26952', '26953', '26954', '26955', '26956', '26957', '26958', '26959', '26960', '26961', '26962', '26963', '26964', '26965', '26966', '26967', '26968', '26969', '26970', '26971', '26972', '26973', '26974', '26975', '26976', '26977', '26978', '26979', '26980', '26981', '26982', '26983', '26984', '26985', '26986', '26987', '26988', '26989', '26990', '26991', '26992', '26993', '26994', '26995', '26996', '26997', '26998', '26999', '27000', '27001', '27002', '27003', '27004', '27005', '27006', '27007', '27008', '27009', '27011', '27012', '27013', '27014', '27015', '27016', '27017', '27018', '27019', '27020', '27021', '27022', '27023', '27024', '27025', '27026', '27027', '27028', '27029', '27030', '27031', '27032', '27033', '27034', '27035', '27036', '27037', '27038', '27041', '27042', '27043', '27044', '27045', '27046', '27047', '27048', '27049', '27050', '27051', '27052', '27053', '27054', '27055', '27056', '27057', '27058', '27059', '27060', '27061', '27062', '27063', '27064', '27065', '27066', '27067', '27068', '2729', '2754', '2760', '2766', '2770', '2775', '2776', '2777', '2783', '2784', '2786', '2789', '2793', '2812', '2813', '2814', '2815', '2816', '2819', '2822', '2824', '2828', '2829', '2830', '2832', '2833', '2834', '2835', '2855', '2867', '2880', '2881', '2883', '2902', '2903', '2904', '2908', '2912', '2915', '2918', '2923', '2940', '2947', '2975', '2976', '2989', '2997', '2998', '2999', '3000', '3001', '3003', '3005', '3007', '3016', '3017', '3019', '3020', '3021', '3026', '3039', '3074', '3080', '3085', '3086', '3087', '3089', '3093', '3094', '3100', '3117', '3118', '3122', '3123', '3125', '3126', '3146', '3147', '3148', '3149', '3152', '3175', '3208', '3231', '3233', '3235', '3236', '3237', '3238', '3239', '3240', '3242', '3243', '3248', '3249', '3250', '3258', '3263', '3264', '3266', '3267', '3268', '3270', '3271', '3278', '3280', '3281', '3288', '3311', '3313', '3323', '3324', '3325', '3326', '3329', '3333', '3334', '3338', '3431', '3432', '3433', '3435', '3437', '3442', '3443', '3444', '3453', '3454', '3469', '3470', '3472', '3473', '3476', '3487', '3488', '3489', '3496', '3502', '3513', '3536', '3540', '3543', '3770', '3772', '3799', '3805', '3811', '3822', '3831', '3857', '3864', '3865', '3866', '3869', '3872', '3951', '3952', '4002', '4003', '4029', '4030', '4033', '4035', '4044', '4045', '4046', '4056', '4065', '4067', '4090', '4092', '4114', '4116', '4117', '4124', '4127', '4157', '4158', '4159', '4238', '4323', '4326', '4392', '4420', '4421', '4422', '4476', '4480', '4754', '5177', '5265', '5352', '5358', '5372', '5427', '5428', '5429', '5444', '5471', '5512', '5589', '5596', '5597', '5598', '5660', '5690', '5753', '5754', '5755', '5778', '5780', '5781', '5803', '5805', '5826', '5861', '5871', '5890', '5895', '5899', '5900', '5908', '5953', '5974', '5976', '5986', '5990', '6011', '6021', '6026', '6032', '6035', '6038', '6049', '6054', '6064', '6075', '6093', '6094', '6125', '6126', '6127', '6329', '6330', '6336', '6362', '6363', '6364', '6372', '6380', '6383', '6409', '6410', '6424', '6425', '6427', '6430', '6431', '6433', '6440', '6441', '6442', '6446', '6452', '6472', '6478', '6481', '6482', '6488', '6489', '6490', '6491', '6492', '6493', '6494', '6498', '6503', '6504', '6506', '6516', '6526', '6527', '6541', '6548', '6560', '6566', '6567', '6571', '6573', '6575', '6576', '6577', '6596', '6597', '6601', '6602', '6603', '6605', '6609', '6610', '6611', '6613', '6614', '6615', '6616', '6617', '6618', '6619', '6620', '6621', '6629', '6630', '6633', '6634', '6637', '6638', '6640', '6641', '6643', '6645', '6646', '6648', '6656', '6663', '6665', '6667', '6669', '6670', '6671', '6672', '6673', '6675', '6676', '6677', '6678', '6681', '6682', '6721', '6723', '6726', '6727', '6729', '6732', '6748', '6780', '6781', '6785', '6786', '6789', '6794', '6795', '6796', '6797', '6798', '6800', '6801', '6804', '6807', '6815', '6817', '6826', '6827', '6828', '6830', '6834', '6835', '6838', '6839', '6842', '6843', '6845', '6846', '6848', '6849', '6856', '6862', '6865', '6867', '6868', '6869', '6870', '6871', '6872', '6873', '6874', '6875', '6877', '6878', '6880', '6881', '6882', '6891', '6892', '6896', '6897', '6898', '6901', '6902', '6917', '6927', '6928', '6932', '6936', '6938', '6949', '6950', '6951', '6952', '6953', '6958', '6961', '6962', '6964', '6966', '6967', '6971', '6972', '6975', '6979', '6981', '6982', '6990', '6991', '6994', '6998', '6999', '7001', '7014', '7016', '7017', '7019', '7025', '7030', '7033', '7035', '7043', '7044', '7049', '7050', '7051', '7055', '7058', '7060', '7061', '7062', '7065', '7066', '7076', '7085', '7088', '7090', '7092', '7093', '7111', '7114', '7116', '7117', '7118', '7119', '7120', '7124', '7127', '7132', '7136', '7143', '7149', '7151', '7152', '7154', '7155', '7156', '7158', '7159', '7162', '7163', '7166', '7171', '7172', '7173', '7174', '7175', '7176', '7177', '7184', '7190', '7192', '7194', '7195', '7199', '7200', '7201', '7202', '7203', '7213', '7229', '7230', '7234', '7236', '7237', '7238', '7239', '7240', '7241', '7243', '7245', '7247', '7248', '7255', '7256', '7257', '7258', '7259', '7262', '7268', '7274', '7275', '7276', '7277', '7285', '7286', '7287', '7289', '7290', '7291', '7292', '7293', '7294', '7295', '7311', '7312', '7313', '7314', '7315', '7317', '7329', '7338', '7339', '7344', '7349', '7351', '7356', '7359', '7368', '7369', '7378', '7379', '7383', '7384', '7386', '7387', '7390', '7392', '7393', '7394', '7395', '7396', '7399', '7401', '7402', '7408', '7409', '7410', '7411', '7412', '7438', '7439', '7440', '7445', '7446', '7447', '7448', '7451', '7452', '7464', '7468', '7469', '7471', '7473', '7477', '7478', '7479', '7487', '7490', '7495', '7498', '7517', '7519', '7520', '7521', '7527', '7528', '7533', '7534', '7537', '7547', '7548', '7550', '7551', '7553', '7554', '7555', '7556', '7557', '7558', '7560', '7562', '7566', '7568', '7569', '7579', '7580', '7581', '7585', '7593', '7595', '7603', '7608', '7633', '7634', '7635', '7636', '7638', '7639', '7640', '7642', '7644', '7648', '7651', '7660', '7661', '7662', '7664', '7669', '7670', '7674', '7693', '7694', '7695', '7699', '7700', '7702', '7719', '7720', '7721', '7722', '7723', '7748', '7756', '7757', '7758', '7759', '7762', '7763', '7766', '7767', '7772', '7776', '7777', '7830', '7832', '7833', '7834', '7835', '7836', '7837', '7843', '7844', '7845', '7846', '7847', '7865', '7885', '7890', '7901', '7902', '7903', '7904', '7905', '7906', '7907', '7909', '7910', '7927', '7928', '7930', '7932', '8066', '8090', '8099', '8137', '8175', '8215', '8229', '8253', '8266', '8267', '8281', '8376', '8411', '8412', '8419', '8420', '8440', '8453', '8464', '8505', '8551', '8558', '8587', '8591', '8612', '8648', '8670', '8708', '8713', '8715', '8801', '8856', '8914', '9069', '9070', '9101', '9107', '9108', '9153', '9171', '9172', '9173', '9191', '9350', '9366', '9367', '9368', '9369', '9478', '9479', '9480', '9530', '9531', '9569', '9570', '9648', '9730', '9760', '9763', '9764', '9765', '9815', '9816', '9865', '9866', '9867', '9870', '9871', '9902', '9903', '9960', '9989']\n"
     ]
    }
   ],
   "source": [
    "list_of_pv_systems = list(ncf.keys())  # list of strings of PV system ss_id's\n",
    "\n",
    "print(list_of_pv_systems)"
   ]
  },
  {
   "cell_type": "code",
   "execution_count": 7,
   "metadata": {},
   "outputs": [
    {
     "name": "stdout",
     "output_type": "stream",
     "text": [
      "DatetimeIndex(['2021-06-01 00:05:00', '2021-06-01 00:10:00',\n",
      "               '2021-06-01 00:15:00', '2021-06-01 00:20:00',\n",
      "               '2021-06-01 00:25:00', '2021-06-01 00:30:00',\n",
      "               '2021-06-01 00:35:00', '2021-06-01 00:40:00',\n",
      "               '2021-06-01 00:45:00', '2021-06-01 00:50:00',\n",
      "               ...\n",
      "               '2021-06-01 23:10:00', '2021-06-01 23:15:00',\n",
      "               '2021-06-01 23:20:00', '2021-06-01 23:25:00',\n",
      "               '2021-06-01 23:30:00', '2021-06-01 23:35:00',\n",
      "               '2021-06-01 23:40:00', '2021-06-01 23:45:00',\n",
      "               '2021-06-01 23:50:00', '2021-06-01 23:55:00'],\n",
      "              dtype='datetime64[ns]', name='datetime', length=287, freq=None)\n",
      "287\n"
     ]
    }
   ],
   "source": [
    "on_pv_system = ncf[list_of_pv_systems[0]].to_dataframe()\n",
    "on_pv_system = on_pv_system[on_pv_system.index < '2021-06-02']\n",
    "on_pv_system = on_pv_system[on_pv_system.index > '2021-06-01 00:00:00']\n",
    "print(on_pv_system.index)\n",
    "on_pv = np.array(on_pv_system)\n",
    "on_pv = list(itertools.chain(*on_pv))\n",
    "print(len(on_pv))"
   ]
  },
  {
   "cell_type": "code",
   "execution_count": 8,
   "metadata": {
    "scrolled": true
   },
   "outputs": [
    {
     "name": "stdout",
     "output_type": "stream",
     "text": [
      "2021-06-01 00:10:00\n"
     ]
    },
    {
     "data": {
      "image/png": "[encoded data removed]",
      "text/plain": [
       "<Figure size 720x576 with 1 Axes>"
      ]
     },
     "metadata": {
      "needs_background": "light"
     },
     "output_type": "display_data"
    }
   ],
   "source": [
    "# Plot/visualize PV production for single system in one day\n",
    "'''\n",
    "'''\n",
    "plt.figure(figsize=(10,8))\n",
    "plt.gca().xaxis.set_major_formatter(mdates.DateFormatter(\" %H:%M:%S\"))\n",
    "plt.gca().xaxis.set_major_locator(mdates.MinuteLocator(interval=120))\n",
    "x_dates = [dt.datetime.strptime(str(pd.Timestamp(d)), '%Y-%m-%d %H:%M:%S') for d in on_pv_system.index]\n",
    "print(x_dates[1])\n",
    "temp_x = np.linspace(1, len(on_pv), num=len(on_pv))\n",
    "plt.plot(x_dates, on_pv)\n",
    "plt.xlabel('Time Scale')\n",
    "plt.ylabel('PV generation')\n",
    "plt.gcf().autofmt_xdate()\n",
    "plt.show()\n"
   ]
  },
  {
   "cell_type": "code",
   "execution_count": 9,
   "metadata": {},
   "outputs": [
    {
     "data": {
      "text/plain": [
       "'\\n\\nmodel input: \\n- date + time from which to forecast next 24h\\n- latitutde/longitude\\n- orientation/tilt\\n- kwp\\n\\nmodel output:\\n- 24 hour generation forecast in increments of 15 min (CAN BE CHANGED)\\n\\nCurrent TODO:\\n\\n- run lat/lon/date through a trigonometric transformation to reduce endpoint singularities (https://arxiv.org/pdf/2011.06125.pdf)\\n- load in satellite image data, run it through normalization\\n\\n'"
      ]
     },
     "execution_count": 9,
     "metadata": {},
     "output_type": "execute_result"
    }
   ],
   "source": [
    "'''\n",
    "\n",
    "model input: \n",
    "- date + time from which to forecast next 24h\n",
    "- latitutde/longitude\n",
    "- orientation/tilt\n",
    "- kwp\n",
    "\n",
    "model output:\n",
    "- 24 hour generation forecast in increments of 15 min (CAN BE CHANGED)\n",
    "\n",
    "Current TODO:\n",
    "\n",
    "- run lat/lon/date through a trigonometric transformation to reduce endpoint singularities (https://arxiv.org/pdf/2011.06125.pdf)\n",
    "- load in satellite image data, run it through normalization\n",
    "\n",
    "'''"
   ]
  },
  {
   "cell_type": "markdown",
   "metadata": {},
   "source": [
    "# Preprocessing\n"
   ]
  },
  {
   "cell_type": "code",
   "execution_count": null,
   "metadata": {},
   "outputs": [],
   "source": []
  }
 ],
 "metadata": {
  "kernelspec": {
   "display_name": "Python 3 (ipykernel)",
   "language": "python",
   "name": "python3"
  },
  "language_info": {
   "codemirror_mode": {
    "name": "ipython",
    "version": 3
   },
   "file_extension": ".py",
   "mimetype": "text/x-python",
   "name": "python",
   "nbconvert_exporter": "python",
   "pygments_lexer": "ipython3",
   "version": "3.9.5"
  },
  "vscode": {
   "interpreter": {
    "hash": "7216ba4f50bdf1d7833d47b1e0b30f8c68e94bf3bb3d00898dd426454fc2a779"
   }
  }
 },
 "nbformat": 4,
 "nbformat_minor": 2
}
